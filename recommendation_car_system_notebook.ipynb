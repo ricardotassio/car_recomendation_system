{
 "cells": [
  {
   "cell_type": "markdown",
   "id": "adc3ccfb",
   "metadata": {},
   "source": [
    "# Used Cars Recommendation System\n",
    "\n",
    "## Introduction\n",
    "This notebook develops a recommendation system for used cars based on user preferences and car characteristics, such as price, manufacturer, and type.\n",
    "\n",
    "## Objectives\n",
    "- Help customers choose cars based on preferences and budgets.\n",
    "- Ensure alternative suggestions if exact criteria are unavailable.\n",
    "- Handle the cold-start problem by improving recommendations as user interactions grow.\n",
    "\n",
    "### Dataset\n",
    "The project uses the `vehicles.csv` dataset as the primary source.\n"
   ]
  },
  {
   "cell_type": "markdown",
   "id": "a71d4cf9",
   "metadata": {},
   "source": [
    "## Step 1: Load and Explore the Dataset"
   ]
  },
  {
   "cell_type": "code",
   "execution_count": 1,
   "id": "1b01747d",
   "metadata": {},
   "outputs": [
    {
     "name": "stdout",
     "output_type": "stream",
     "text": [
      "Dataset Overview:\n",
      "<class 'pandas.core.frame.DataFrame'>\n",
      "RangeIndex: 426880 entries, 0 to 426879\n",
      "Data columns (total 26 columns):\n",
      " #   Column        Non-Null Count   Dtype  \n",
      "---  ------        --------------   -----  \n",
      " 0   id            426880 non-null  int64  \n",
      " 1   url           426880 non-null  object \n",
      " 2   region        426880 non-null  object \n",
      " 3   region_url    426880 non-null  object \n",
      " 4   price         426880 non-null  int64  \n",
      " 5   year          425675 non-null  float64\n",
      " 6   manufacturer  409234 non-null  object \n",
      " 7   model         421603 non-null  object \n",
      " 8   condition     252776 non-null  object \n",
      " 9   cylinders     249202 non-null  object \n",
      " 10  fuel          423867 non-null  object \n",
      " 11  odometer      422480 non-null  float64\n",
      " 12  title_status  418638 non-null  object \n",
      " 13  transmission  424324 non-null  object \n",
      " 14  VIN           265838 non-null  object \n",
      " 15  drive         296313 non-null  object \n",
      " 16  size          120519 non-null  object \n",
      " 17  type          334022 non-null  object \n",
      " 18  paint_color   296677 non-null  object \n",
      " 19  image_url     426812 non-null  object \n",
      " 20  description   426810 non-null  object \n",
      " 21  county        0 non-null       float64\n",
      " 22  state         426880 non-null  object \n",
      " 23  lat           420331 non-null  float64\n",
      " 24  long          420331 non-null  float64\n",
      " 25  posting_date  426812 non-null  object \n",
      "dtypes: float64(5), int64(2), object(19)\n",
      "memory usage: 84.7+ MB\n",
      "None\n"
     ]
    }
   ],
   "source": [
    "\n",
    "# Load the dataset\n",
    "import pandas as pd\n",
    "\n",
    "data_path = 'vehicles.csv'  # Path to the dataset\n",
    "data = pd.read_csv(data_path)\n",
    "\n",
    "# Display basic information about the dataset\n",
    "print(\"Dataset Overview:\")\n",
    "print(data.info())"
   ]
  },
  {
   "cell_type": "markdown",
   "metadata": {},
   "source": [
    "### Check the data table"
   ]
  },
  {
   "cell_type": "code",
   "execution_count": 2,
   "metadata": {},
   "outputs": [
    {
     "name": "stdout",
     "output_type": "stream",
     "text": [
      "                                                              0  \\\n",
      "id                                                   7222695916   \n",
      "url           https://prescott.craigslist.org/cto/d/prescott...   \n",
      "region                                                 prescott   \n",
      "region_url                      https://prescott.craigslist.org   \n",
      "price                                                      6000   \n",
      "year                                                        NaN   \n",
      "manufacturer                                                NaN   \n",
      "model                                                       NaN   \n",
      "condition                                                   NaN   \n",
      "cylinders                                                   NaN   \n",
      "fuel                                                        NaN   \n",
      "odometer                                                    NaN   \n",
      "title_status                                                NaN   \n",
      "transmission                                                NaN   \n",
      "VIN                                                         NaN   \n",
      "drive                                                       NaN   \n",
      "size                                                        NaN   \n",
      "type                                                        NaN   \n",
      "paint_color                                                 NaN   \n",
      "image_url                                                   NaN   \n",
      "description                                                 NaN   \n",
      "county                                                      NaN   \n",
      "state                                                        az   \n",
      "lat                                                         NaN   \n",
      "long                                                        NaN   \n",
      "posting_date                                                NaN   \n",
      "\n",
      "                                                              1  \\\n",
      "id                                                   7218891961   \n",
      "url           https://fayar.craigslist.org/ctd/d/bentonville...   \n",
      "region                                             fayetteville   \n",
      "region_url                         https://fayar.craigslist.org   \n",
      "price                                                     11900   \n",
      "year                                                        NaN   \n",
      "manufacturer                                                NaN   \n",
      "model                                                       NaN   \n",
      "condition                                                   NaN   \n",
      "cylinders                                                   NaN   \n",
      "fuel                                                        NaN   \n",
      "odometer                                                    NaN   \n",
      "title_status                                                NaN   \n",
      "transmission                                                NaN   \n",
      "VIN                                                         NaN   \n",
      "drive                                                       NaN   \n",
      "size                                                        NaN   \n",
      "type                                                        NaN   \n",
      "paint_color                                                 NaN   \n",
      "image_url                                                   NaN   \n",
      "description                                                 NaN   \n",
      "county                                                      NaN   \n",
      "state                                                        ar   \n",
      "lat                                                         NaN   \n",
      "long                                                        NaN   \n",
      "posting_date                                                NaN   \n",
      "\n",
      "                                                              2  \\\n",
      "id                                                   7221797935   \n",
      "url           https://keys.craigslist.org/cto/d/summerland-k...   \n",
      "region                                             florida keys   \n",
      "region_url                          https://keys.craigslist.org   \n",
      "price                                                     21000   \n",
      "year                                                        NaN   \n",
      "manufacturer                                                NaN   \n",
      "model                                                       NaN   \n",
      "condition                                                   NaN   \n",
      "cylinders                                                   NaN   \n",
      "fuel                                                        NaN   \n",
      "odometer                                                    NaN   \n",
      "title_status                                                NaN   \n",
      "transmission                                                NaN   \n",
      "VIN                                                         NaN   \n",
      "drive                                                       NaN   \n",
      "size                                                        NaN   \n",
      "type                                                        NaN   \n",
      "paint_color                                                 NaN   \n",
      "image_url                                                   NaN   \n",
      "description                                                 NaN   \n",
      "county                                                      NaN   \n",
      "state                                                        fl   \n",
      "lat                                                         NaN   \n",
      "long                                                        NaN   \n",
      "posting_date                                                NaN   \n",
      "\n",
      "                                                              3  \\\n",
      "id                                                   7222270760   \n",
      "url           https://worcester.craigslist.org/cto/d/west-br...   \n",
      "region                                   worcester / central MA   \n",
      "region_url                     https://worcester.craigslist.org   \n",
      "price                                                      1500   \n",
      "year                                                        NaN   \n",
      "manufacturer                                                NaN   \n",
      "model                                                       NaN   \n",
      "condition                                                   NaN   \n",
      "cylinders                                                   NaN   \n",
      "fuel                                                        NaN   \n",
      "odometer                                                    NaN   \n",
      "title_status                                                NaN   \n",
      "transmission                                                NaN   \n",
      "VIN                                                         NaN   \n",
      "drive                                                       NaN   \n",
      "size                                                        NaN   \n",
      "type                                                        NaN   \n",
      "paint_color                                                 NaN   \n",
      "image_url                                                   NaN   \n",
      "description                                                 NaN   \n",
      "county                                                      NaN   \n",
      "state                                                        ma   \n",
      "lat                                                         NaN   \n",
      "long                                                        NaN   \n",
      "posting_date                                                NaN   \n",
      "\n",
      "                                                              4  \n",
      "id                                                   7210384030  \n",
      "url           https://greensboro.craigslist.org/cto/d/trinit...  \n",
      "region                                               greensboro  \n",
      "region_url                    https://greensboro.craigslist.org  \n",
      "price                                                      4900  \n",
      "year                                                        NaN  \n",
      "manufacturer                                                NaN  \n",
      "model                                                       NaN  \n",
      "condition                                                   NaN  \n",
      "cylinders                                                   NaN  \n",
      "fuel                                                        NaN  \n",
      "odometer                                                    NaN  \n",
      "title_status                                                NaN  \n",
      "transmission                                                NaN  \n",
      "VIN                                                         NaN  \n",
      "drive                                                       NaN  \n",
      "size                                                        NaN  \n",
      "type                                                        NaN  \n",
      "paint_color                                                 NaN  \n",
      "image_url                                                   NaN  \n",
      "description                                                 NaN  \n",
      "county                                                      NaN  \n",
      "state                                                        nc  \n",
      "lat                                                         NaN  \n",
      "long                                                        NaN  \n",
      "posting_date                                                NaN  \n"
     ]
    }
   ],
   "source": [
    "print(data.head().T)"
   ]
  },
  {
   "cell_type": "markdown",
   "id": "e3508c1b",
   "metadata": {},
   "source": [
    "## Step 2: Handle Missing Values"
   ]
  },
  {
   "cell_type": "markdown",
   "metadata": {},
   "source": [
    "#### Check Missing values"
   ]
  },
  {
   "cell_type": "code",
   "execution_count": 3,
   "metadata": {},
   "outputs": [
    {
     "name": "stdout",
     "output_type": "stream",
     "text": [
      "id                   0\n",
      "url                  0\n",
      "region               0\n",
      "region_url           0\n",
      "price                0\n",
      "year              1205\n",
      "manufacturer     17646\n",
      "model             5277\n",
      "condition       174104\n",
      "cylinders       177678\n",
      "fuel              3013\n",
      "odometer          4400\n",
      "title_status      8242\n",
      "transmission      2556\n",
      "VIN             161042\n",
      "drive           130567\n",
      "size            306361\n",
      "type             92858\n",
      "paint_color     130203\n",
      "image_url           68\n",
      "description         70\n",
      "county          426880\n",
      "state                0\n",
      "lat               6549\n",
      "long              6549\n",
      "posting_date        68\n",
      "dtype: int64\n"
     ]
    }
   ],
   "source": [
    "print(data.isnull().sum())"
   ]
  },
  {
   "cell_type": "code",
   "execution_count": 4,
   "id": "cbb90bc9",
   "metadata": {},
   "outputs": [
    {
     "name": "stdout",
     "output_type": "stream",
     "text": [
      "Missing values handled.\n"
     ]
    }
   ],
   "source": [
    "\n",
    "# Drop irrelevant columns\n",
    "irrelevant_columns = ['url', 'region_url', 'image_url', 'description', 'county', 'VIN']\n",
    "data = data.drop(columns=irrelevant_columns)\n",
    "\n",
    "# Fill missing numerical columns\n",
    "numerical_columns = ['year', 'odometer', 'price']\n",
    "for col in numerical_columns:\n",
    "    data[col].fillna(data[col].median(), inplace=True)\n",
    "\n",
    "# Fill missing categorical columns\n",
    "categorical_columns = [\n",
    "    'manufacturer', 'model', 'condition', 'cylinders', 'fuel', 'title_status',\n",
    "    'transmission', 'drive', 'size', 'type', 'paint_color'\n",
    "]\n",
    "for col in categorical_columns:\n",
    "    data[col].fillna('unknown', inplace=True)\n",
    "\n",
    "print(\"Missing values handled.\")\n"
   ]
  },
  {
   "cell_type": "markdown",
   "id": "97ef2db4",
   "metadata": {},
   "source": [
    "## Step 3: Statistical Analysis and Visualization"
   ]
  },
  {
   "cell_type": "code",
   "execution_count": 5,
   "id": "480117f0",
   "metadata": {},
   "outputs": [
    {
     "name": "stdout",
     "output_type": "stream",
     "text": [
      "Summary Statistics:\n",
      "                 id         price           year      odometer            lat  \\\n",
      "count  4.268800e+05  4.268800e+05  426880.000000  4.268800e+05  420331.000000   \n",
      "mean   7.311487e+09  7.519903e+04    2011.240173  9.791454e+04      38.493940   \n",
      "std    4.473170e+06  1.218228e+07       9.439234  2.127801e+05       5.841533   \n",
      "min    7.207408e+09  0.000000e+00    1900.000000  0.000000e+00     -84.122245   \n",
      "25%    7.308143e+09  5.900000e+03    2008.000000  3.813000e+04      34.601900   \n",
      "50%    7.312621e+09  1.395000e+04    2013.000000  8.554800e+04      39.150100   \n",
      "75%    7.315254e+09  2.648575e+04    2017.000000  1.330000e+05      42.398900   \n",
      "max    7.317101e+09  3.736929e+09    2022.000000  1.000000e+07      82.390818   \n",
      "\n",
      "                long  \n",
      "count  420331.000000  \n",
      "mean      -94.748599  \n",
      "std        18.365462  \n",
      "min      -159.827728  \n",
      "25%      -111.939847  \n",
      "50%       -88.432600  \n",
      "75%       -80.832039  \n",
      "max       173.885502  \n"
     ]
    },
    {
     "name": "stderr",
     "output_type": "stream",
     "text": [
      "/usr/local/anaconda3/lib/python3.11/site-packages/seaborn/_oldcore.py:1119: FutureWarning: use_inf_as_na option is deprecated and will be removed in a future version. Convert inf values to NaN before operating instead.\n",
      "  with pd.option_context('mode.use_inf_as_na', True):\n"
     ]
    },
    {
     "data": {
      "image/png": "[encoded data removed]",
      "text/plain": [
       "<Figure size 1200x600 with 1 Axes>"
      ]
     },
     "metadata": {},
     "output_type": "display_data"
    },
    {
     "data": {
      "image/png": "[encoded data removed]",
      "text/plain": [
       "<Figure size 1200x600 with 1 Axes>"
      ]
     },
     "metadata": {},
     "output_type": "display_data"
    }
   ],
   "source": [
    "\n",
    "import matplotlib.pyplot as plt\n",
    "import seaborn as sns\n",
    "\n",
    "# Summary statistics\n",
    "print(\"Summary Statistics:\")\n",
    "print(data.describe())\n",
    "\n",
    "# Visualize distributions\n",
    "plt.figure(figsize=(12, 6))\n",
    "sns.histplot(data['price'], bins=50, kde=True, color='blue')\n",
    "plt.title('Distribution of Price')\n",
    "plt.xlabel('Price')\n",
    "plt.ylabel('Frequency')\n",
    "plt.grid(True)\n",
    "plt.show()\n",
    "\n",
    "plt.figure(figsize=(12, 6))\n",
    "sns.boxplot(x=data['price'], color='red')\n",
    "plt.title('Boxplot of Price')\n",
    "plt.xlabel('Price')\n",
    "plt.show()\n"
   ]
  },
  {
   "cell_type": "markdown",
   "metadata": {},
   "source": [
    "### Adjust dataset removing outliers "
   ]
  },
  {
   "cell_type": "code",
   "execution_count": 6,
   "metadata": {},
   "outputs": [],
   "source": [
    "data = data[(data['price'] > 500) & (data['price'] < 100000)]\n",
    "data['price'] = data.groupby(['manufacturer', 'type'])['price'].transform(lambda x: x.replace(0, x.median()))\n"
   ]
  },
  {
   "cell_type": "markdown",
   "metadata": {},
   "source": [
    "## Plot graphs again"
   ]
  },
  {
   "cell_type": "code",
   "execution_count": 7,
   "metadata": {},
   "outputs": [
    {
     "name": "stdout",
     "output_type": "stream",
     "text": [
      "Summary Statistics:\n",
      "                 id          price           year      odometer  \\\n",
      "count  3.830680e+05  383068.000000  383068.000000  3.830680e+05   \n",
      "mean   7.311463e+09   19202.321011    2010.982280  9.840968e+04   \n",
      "std    4.475544e+06   14375.118732       9.573337  1.887530e+05   \n",
      "min    7.207408e+09     501.000000    1900.000000  0.000000e+00   \n",
      "25%    7.308081e+09    7900.000000    2008.000000  3.861900e+04   \n",
      "50%    7.312576e+09   15937.000000    2013.000000  8.712350e+04   \n",
      "75%    7.315243e+09   27990.000000    2017.000000  1.359900e+05   \n",
      "max    7.317101e+09   99999.000000    2022.000000  1.000000e+07   \n",
      "\n",
      "                 lat           long  \n",
      "count  379616.000000  379616.000000  \n",
      "mean       38.516418     -94.336313  \n",
      "std         5.846494      18.086249  \n",
      "min       -84.122245    -159.719900  \n",
      "25%        34.708828    -110.960000  \n",
      "50%        39.230033     -88.030529  \n",
      "75%        42.354200     -80.830000  \n",
      "max        82.390818     167.629911  \n"
     ]
    },
    {
     "name": "stderr",
     "output_type": "stream",
     "text": [
      "/usr/local/anaconda3/lib/python3.11/site-packages/seaborn/_oldcore.py:1119: FutureWarning: use_inf_as_na option is deprecated and will be removed in a future version. Convert inf values to NaN before operating instead.\n",
      "  with pd.option_context('mode.use_inf_as_na', True):\n"
     ]
    },
    {
     "data": {
      "image/png": "[encoded data removed]",
      "text/plain": [
       "<Figure size 1200x600 with 1 Axes>"
      ]
     },
     "metadata": {},
     "output_type": "display_data"
    },
    {
     "data": {
      "image/png": "[encoded data removed]",
      "text/plain": [
       "<Figure size 1200x600 with 1 Axes>"
      ]
     },
     "metadata": {},
     "output_type": "display_data"
    }
   ],
   "source": [
    "# Summary statistics\n",
    "print(\"Summary Statistics:\")\n",
    "print(data.describe())\n",
    "\n",
    "# Visualize distributions\n",
    "plt.figure(figsize=(12, 6))\n",
    "sns.histplot(data['price'], bins=50, kde=True, color='blue')\n",
    "plt.title('Distribution of Price')\n",
    "plt.xlabel('Price')\n",
    "plt.ylabel('Frequency')\n",
    "plt.grid(True)\n",
    "plt.show()\n",
    "\n",
    "plt.figure(figsize=(12, 6))\n",
    "sns.boxplot(x=data['price'], color='red')\n",
    "plt.title('Boxplot of Price')\n",
    "plt.xlabel('Price')\n",
    "plt.show()"
   ]
  },
  {
   "cell_type": "markdown",
   "metadata": {},
   "source": [
    "### Create "
   ]
  },
  {
   "cell_type": "code",
   "execution_count": 8,
   "metadata": {},
   "outputs": [],
   "source": [
    "lower_limit = data['price'].quantile(0.01)\n",
    "upper_limit = data['price'].quantile(0.99)\n",
    "data['price'] = data['price'].clip(lower=lower_limit, upper=upper_limit)\n"
   ]
  },
  {
   "cell_type": "markdown",
   "metadata": {},
   "source": []
  },
  {
   "cell_type": "code",
   "execution_count": 9,
   "metadata": {},
   "outputs": [
    {
     "name": "stderr",
     "output_type": "stream",
     "text": [
      "/usr/local/anaconda3/lib/python3.11/site-packages/seaborn/_oldcore.py:1119: FutureWarning: use_inf_as_na option is deprecated and will be removed in a future version. Convert inf values to NaN before operating instead.\n",
      "  with pd.option_context('mode.use_inf_as_na', True):\n"
     ]
    },
    {
     "data": {
      "image/png": "[encoded data removed]",
      "text/plain": [
       "<Figure size 1200x600 with 1 Axes>"
      ]
     },
     "metadata": {},
     "output_type": "display_data"
    },
    {
     "data": {
      "image/png": "[encoded data removed]",
      "text/plain": [
       "<Figure size 1200x600 with 1 Axes>"
      ]
     },
     "metadata": {},
     "output_type": "display_data"
    }
   ],
   "source": [
    "# Visualize distributions\n",
    "plt.figure(figsize=(12, 6))\n",
    "sns.histplot(data['price'], bins=50, kde=True, color='blue')\n",
    "plt.title('Distribution of Price')\n",
    "plt.xlabel('Price')\n",
    "plt.ylabel('Frequency')\n",
    "plt.grid(True)\n",
    "plt.show()\n",
    "\n",
    "plt.figure(figsize=(12, 6))\n",
    "sns.boxplot(x=data['price'], color='red')\n",
    "plt.title('Boxplot of Price')\n",
    "plt.xlabel('Price')\n",
    "plt.show()"
   ]
  },
  {
   "cell_type": "markdown",
   "id": "f0bf896d",
   "metadata": {},
   "source": [
    "## Step 4: Feature Engineering"
   ]
  },
  {
   "cell_type": "code",
   "execution_count": 10,
   "id": "8b580376",
   "metadata": {},
   "outputs": [
    {
     "name": "stdout",
     "output_type": "stream",
     "text": [
      "Derived features created.\n"
     ]
    }
   ],
   "source": [
    "\n",
    "# Create derived features\n",
    "from datetime import datetime\n",
    "\n",
    "# Convert relevant numeric columns to integers (except 'price')\n",
    "numeric_columns = ['year', 'odometer']\n",
    "for col in numeric_columns:\n",
    "    data[col] = data[col].astype(int)\n",
    "# Calculate car age\n",
    "current_year = datetime.now().year\n",
    "data['car_age'] = current_year - data['year']\n",
    "\n",
    "# Price per mile\n",
    "data['price_per_mile'] = data['price'] / data['odometer'].replace(0, 1)\n",
    "\n",
    "print(\"Derived features created.\")\n"
   ]
  },
  {
   "cell_type": "markdown",
   "metadata": {},
   "source": [
    "### HANDLE MISSING VALUES"
   ]
  },
  {
   "cell_type": "code",
   "execution_count": 11,
   "metadata": {},
   "outputs": [
    {
     "name": "stdout",
     "output_type": "stream",
     "text": [
      "Filled NaN in numeric column 'lat' with median value: 39.230033\n",
      "Filled NaN in numeric column 'long' with median value: -88.0305285\n",
      "Filled NaN in categorical column 'posting_date' with 'unknown'\n",
      "Remaining NaN values in dataset:\n",
      "id                0\n",
      "region            0\n",
      "price             0\n",
      "year              0\n",
      "manufacturer      0\n",
      "model             0\n",
      "condition         0\n",
      "cylinders         0\n",
      "fuel              0\n",
      "odometer          0\n",
      "title_status      0\n",
      "transmission      0\n",
      "drive             0\n",
      "size              0\n",
      "type              0\n",
      "paint_color       0\n",
      "state             0\n",
      "lat               0\n",
      "long              0\n",
      "posting_date      0\n",
      "car_age           0\n",
      "price_per_mile    0\n",
      "dtype: int64\n"
     ]
    }
   ],
   "source": [
    "# Step 4: Handling Missing Values\n",
    "\n",
    "# Identify numeric and categorical columns\n",
    "numeric_columns = data.select_dtypes(include=['float64', 'int64']).columns\n",
    "categorical_columns = data.select_dtypes(include=['object']).columns\n",
    "\n",
    "# Handle missing values in numeric columns by replacing with median\n",
    "for col in numeric_columns:\n",
    "    if data[col].isnull().sum() > 0:\n",
    "        median_value = data[col].median()\n",
    "        data[col].fillna(median_value, inplace=True)\n",
    "        print(f\"Filled NaN in numeric column '{col}' with median value: {median_value}\")\n",
    "\n",
    "# Handle missing values in categorical columns by replacing with 'unknown'\n",
    "for col in categorical_columns:\n",
    "    if data[col].isnull().sum() > 0:\n",
    "        data[col].fillna('unknown', inplace=True)\n",
    "        print(f\"Filled NaN in categorical column '{col}' with 'unknown'\")\n",
    "\n",
    "# Confirm no remaining NaN values\n",
    "print(\"Remaining NaN values in dataset:\")\n",
    "print(data.isnull().sum())\n"
   ]
  },
  {
   "cell_type": "markdown",
   "id": "9833a18e",
   "metadata": {},
   "source": [
    "## Step 5: Model Development"
   ]
  },
  {
   "cell_type": "code",
   "execution_count": 12,
   "id": "133e25a7",
   "metadata": {},
   "outputs": [
    {
     "name": "stdout",
     "output_type": "stream",
     "text": [
      "Unique values in 'transmission': ['other' 'automatic' 'manual' 'unknown']\n",
      "Unique values in 'fuel': ['gas' 'other' 'diesel' 'hybrid' 'unknown' 'electric']\n",
      "All features are numeric and ready for training.\n",
      "KNN model trained successfully.\n",
      "Dataset size used for training: (363498, 26)\n",
      "Minimum price in the dataset: 1000\n",
      "Maximum price in the dataset: 65995\n",
      "Available fuel types: ['gas', 'other', 'diesel', 'hybrid', 'unknown', 'electric']\n",
      "Available transmissions: ['other', 'automatic', 'manual', 'unknown']\n"
     ]
    }
   ],
   "source": [
    "# STEP 5: Desenvolvimento do Modelo\n",
    "\n",
    "# Salvar uma cópia do conjunto de dados original\n",
    "data_original = data.copy()\n",
    "\n",
    "# Criar uma cópia para o desenvolvimento do modelo\n",
    "data_model = data.copy()\n",
    "\n",
    "# Filtrar registros onde 'manufacturer' ou 'model' são 'unknown'\n",
    "mask = (data_model['manufacturer'] != 'unknown') & (data_model['model'] != 'unknown')\n",
    "data_model = data_model[mask]\n",
    "data_original = data_original[mask]\n",
    "\n",
    "# Importar bibliotecas necessárias\n",
    "from sklearn.neighbors import NearestNeighbors\n",
    "from sklearn.model_selection import train_test_split\n",
    "\n",
    "# Verificar valores únicos para 'transmission' e 'fuel'\n",
    "print(\"Unique values in 'transmission':\", data_model['transmission'].unique())\n",
    "print(\"Unique values in 'fuel':\", data_model['fuel'].unique())\n",
    "\n",
    "# Aplicar One-Hot Encoding para 'transmission' e 'fuel'\n",
    "transmission_dummies = pd.get_dummies(data_model['transmission'], prefix='transmission', dummy_na=False)\n",
    "fuel_dummies = pd.get_dummies(data_model['fuel'], prefix='fuel', dummy_na=False)\n",
    "\n",
    "# Salvar os nomes das colunas dummies para uso posterior\n",
    "transmission_dummies_columns = transmission_dummies.columns.tolist()\n",
    "fuel_dummies_columns = fuel_dummies.columns.tolist()\n",
    "\n",
    "# Concatenar as colunas codificadas ao DataFrame do modelo\n",
    "data_model = pd.concat([data_model, transmission_dummies, fuel_dummies], axis=1)\n",
    "\n",
    "# Identificar colunas categóricas adicionais para codificação\n",
    "additional_categorical_columns = ['manufacturer', 'type', 'model', 'condition', 'cylinders',\n",
    "                                  'title_status', 'drive', 'size', 'paint_color']\n",
    "\n",
    "# Aplicar codificação numérica (factorize) nessas colunas\n",
    "for col in additional_categorical_columns:\n",
    "    if col in data_model.columns:\n",
    "        data_model[f'{col}_encoded'] = pd.factorize(data_model[col])[0]\n",
    "\n",
    "# Remover as colunas categóricas originais do DataFrame do modelo\n",
    "columns_to_drop = ['transmission', 'fuel', 'region', 'region_url', 'description', 'county',\n",
    "                   'state', 'image_url', 'posting_date'] + additional_categorical_columns\n",
    "data_model = data_model.drop(columns=columns_to_drop, errors='ignore')\n",
    "\n",
    "# Preparar os dados para o modelo\n",
    "X = data_model.drop(columns=['price'])  # Excluir a variável alvo\n",
    "y = data_model['price']  # Definir a variável alvo\n",
    "\n",
    "# Validar que todas as colunas são numéricas\n",
    "non_numeric_columns = X.select_dtypes(include=['object']).columns\n",
    "if len(non_numeric_columns) > 0:\n",
    "    print(\"Warning: Non-numeric columns detected:\", non_numeric_columns)\n",
    "else:\n",
    "    print(\"All features are numeric and ready for training.\")\n",
    "\n",
    "# Dividir os dados em conjuntos de treinamento e teste (opcional)\n",
    "# X_train, X_test, y_train, y_test = train_test_split(X, y, test_size=0.2, random_state=42)\n",
    "\n",
    "# Treinar o modelo KNN com todos os dados (para recomendação)\n",
    "knn = NearestNeighbors(n_neighbors=5, metric='euclidean')\n",
    "knn.fit(X)\n",
    "\n",
    "# Confirmação\n",
    "print(\"KNN model trained successfully.\")\n",
    "print(f\"Dataset size used for training: {X.shape}\")\n",
    "\n",
    "# Extrair valores únicos de 'fuel' e 'transmission' do data_original\n",
    "unique_fuels = data_original['fuel'].dropna().unique().tolist()\n",
    "unique_transmissions = data_original['transmission'].dropna().unique().tolist()\n",
    "\n",
    "# Calcular o menor e o maior preço\n",
    "min_price = int(data_original['price'].min())\n",
    "max_price = int(data_original['price'].max())\n",
    "\n",
    "print(f\"Minimum price in the dataset: {min_price}\")\n",
    "print(f\"Maximum price in the dataset: {max_price}\")\n",
    "print(\"Available fuel types:\", unique_fuels)\n",
    "print(\"Available transmissions:\", unique_transmissions)\n"
   ]
  },
  {
   "cell_type": "markdown",
   "metadata": {},
   "source": [
    "### get the unique values of the columns"
   ]
  },
  {
   "cell_type": "code",
   "execution_count": 13,
   "metadata": {},
   "outputs": [
    {
     "name": "stdout",
     "output_type": "stream",
     "text": [
      "Minimum price in the dataset: 1000\n",
      "Maximum price in the dataset: 65995\n",
      "Available fuel types: ['gas', 'other', 'diesel', 'hybrid', 'unknown', 'electric']\n",
      "Available transmissions: ['other', 'automatic', 'manual', 'unknown']\n"
     ]
    }
   ],
   "source": [
    "# Extrair valores únicos de 'fuel' e 'transmission' do data_original\n",
    "unique_fuels = data_original['fuel'].dropna().unique().tolist()\n",
    "unique_transmissions = data_original['transmission'].dropna().unique().tolist()\n",
    "# Calcular o menor e o maior preço\n",
    "min_price = data_original['price'].min()\n",
    "max_price = data_original['price'].max()\n",
    "\n",
    "print(f\"Minimum price in the dataset: {min_price}\")\n",
    "print(f\"Maximum price in the dataset: {max_price}\")\n",
    "print(\"Available fuel types:\", unique_fuels)\n",
    "print(\"Available transmissions:\", unique_transmissions)\n"
   ]
  },
  {
   "cell_type": "code",
   "execution_count": 14,
   "id": "456d8528",
   "metadata": {},
   "outputs": [
    {
     "name": "stdout",
     "output_type": "stream",
     "text": [
      "Available fuel types: ['gas', 'other', 'diesel', 'hybrid', 'electric']\n",
      "Available transmissions: ['other', 'automatic', 'manual']\n",
      "Minimum price in the dataset: 1000\n",
      "Maximum price in the dataset: 65995\n",
      "Recommended cars based on user preferences:\n",
      "      price manufacturer                 model  year fuel transmission  \\\n",
      "1415  22000      porsche                  928s  1984  gas       manual   \n",
      "3226  21000         jeep    wrangler unlimited  2009  gas       manual   \n",
      "954   10999       subaru  impreza 2.0i premium  2012  gas       manual   \n",
      "278   17334    chevrolet                camaro  2011  gas       manual   \n",
      "2875  10000         jeep        wrangler sport  1997  gas       manual   \n",
      "\n",
      "      odometer  car_age  \n",
      "1415     79618       40  \n",
      "3226    104000       15  \n",
      "954      82089       12  \n",
      "278      80909       13  \n",
      "2875     84000       27  \n"
     ]
    }
   ],
   "source": [
    "# STEP 6: Recomendação com Base nas Preferências do Usuário\n",
    "\n",
    "# Remover 'unknown' das opções\n",
    "unique_fuels = [fuel for fuel in unique_fuels if fuel != 'unknown']\n",
    "unique_transmissions = [transmission for transmission in unique_transmissions if transmission != 'unknown']\n",
    "\n",
    "print(\"Available fuel types:\", unique_fuels)\n",
    "print(\"Available transmissions:\", unique_transmissions)\n",
    "print(f\"Minimum price in the dataset: {min_price}\")\n",
    "print(f\"Maximum price in the dataset: {max_price}\")\n",
    "\n",
    "# Função para recomendar carros com base nas preferências do usuário\n",
    "def recommend_cars(price_min, price_max, fuel, transmission, n_neighbors=5):\n",
    "    # Filtrar os índices com base nas preferências do usuário\n",
    "    filtered_indices = data_model[\n",
    "        (data_model['price'] >= price_min) &\n",
    "        (data_model['price'] <= price_max) &\n",
    "        (data_original['fuel'] == fuel) &\n",
    "        (data_original['transmission'] == transmission)\n",
    "    ].index\n",
    "\n",
    "    if filtered_indices.empty:\n",
    "        print(\"Nenhum carro encontrado com as preferências selecionadas.\")\n",
    "        return None\n",
    "    else:\n",
    "        # Selecionar os dados filtrados\n",
    "        filtered_data_model = data_model.loc[filtered_indices].copy()\n",
    "        filtered_data_original = data_original.loc[filtered_indices].copy()\n",
    "\n",
    "        # Remover duplicatas no filtered_data_original\n",
    "        filtered_data_original = filtered_data_original.drop_duplicates(\n",
    "            subset=['manufacturer', 'model', 'year', 'odometer', 'price']\n",
    "        )\n",
    "\n",
    "        # Atualizar filtered_data_model com base nos índices após remover duplicatas\n",
    "        filtered_data_model = filtered_data_model.loc[filtered_data_original.index]\n",
    "\n",
    "        # Resetar o índice para garantir o alinhamento\n",
    "        filtered_data_model.reset_index(drop=True, inplace=True)\n",
    "        filtered_data_original.reset_index(drop=True, inplace=True)\n",
    "\n",
    "        # Preparar os dados para o KNN\n",
    "        filtered_data_for_knn = filtered_data_model.drop(columns=['price']).copy()\n",
    "\n",
    "        # Criar um DataFrame que corresponda à estrutura de 'filtered_data_for_knn'\n",
    "        user_features = pd.DataFrame(columns=filtered_data_for_knn.columns)\n",
    "\n",
    "        # Preencher as colunas numéricas com os valores médios do conjunto de dados filtrado\n",
    "        numeric_cols = filtered_data_for_knn.select_dtypes(include=['int64', 'float64']).columns\n",
    "        for col in numeric_cols:\n",
    "            user_features.loc[0, col] = filtered_data_for_knn[col].mean()\n",
    "\n",
    "        # One-Hot Encoding para 'fuel'\n",
    "        for col in fuel_dummies_columns:\n",
    "            user_features.loc[0, col] = 1 if col == f\"fuel_{fuel}\" else 0\n",
    "\n",
    "        # One-Hot Encoding para 'transmission'\n",
    "        for col in transmission_dummies_columns:\n",
    "            user_features.loc[0, col] = 1 if col == f\"transmission_{transmission}\" else 0\n",
    "\n",
    "        # Garantir que todas as outras features estejam preenchidas com zeros\n",
    "        user_features.fillna(0, inplace=True)\n",
    "        user_features = user_features[filtered_data_for_knn.columns]\n",
    "\n",
    "        # Verificar se há dados suficientes para o KNN\n",
    "        if len(filtered_data_for_knn) < n_neighbors:\n",
    "            n_neighbors = len(filtered_data_for_knn)\n",
    "            if n_neighbors == 0:\n",
    "                print(\"Nenhum carro encontrado após o filtro.\")\n",
    "                return None\n",
    "\n",
    "        # Aumentar o número de vizinhos para compensar as duplicatas removidas\n",
    "        knn_neighbors = min(n_neighbors * 2, len(filtered_data_for_knn))\n",
    "\n",
    "        # Realizar a previsão usando o modelo KNN\n",
    "        knn_filtered = NearestNeighbors(n_neighbors=knn_neighbors, metric='euclidean')\n",
    "        knn_filtered.fit(filtered_data_for_knn)\n",
    "        distances, indices = knn_filtered.kneighbors(user_features)\n",
    "\n",
    "        # Recuperar os índices dos carros recomendados\n",
    "        recommended_indices = filtered_data_model.index[indices[0]]\n",
    "\n",
    "        # Recuperar os carros recomendados do data_original filtrado\n",
    "        recommended_cars = filtered_data_original.loc[recommended_indices]\n",
    "\n",
    "        # Remover duplicatas das recomendações\n",
    "        recommended_cars = recommended_cars.drop_duplicates(\n",
    "            subset=['manufacturer', 'model', 'year', 'odometer', 'price']\n",
    "        )\n",
    "\n",
    "        # Limitar as recomendações ao número desejado\n",
    "        recommended_cars = recommended_cars.head(n_neighbors)\n",
    "\n",
    "        # Exibir apenas as colunas selecionadas para melhor legibilidade\n",
    "        output_columns = ['price', 'manufacturer', 'model', 'year', 'fuel', 'transmission', 'odometer', 'car_age']\n",
    "        recommended_cars_display = recommended_cars[output_columns]\n",
    "\n",
    "        return recommended_cars_display\n",
    "\n",
    "\n",
    "\n",
    "# Exemplo de uso da função com entradas dinâmicas\n",
    "price_min = 10000\n",
    "price_max = 40000\n",
    "fuel = 'gas'  # Certifique-se de que o valor está disponível em unique_fuels\n",
    "transmission = 'manual'  # Certifique-se de que o valor está disponível em unique_transmissions\n",
    "\n",
    "recommended_cars = recommend_cars(price_min, price_max, fuel, transmission)\n",
    "\n",
    "if recommended_cars is not None:\n",
    "    print(\"Recommended cars based on user preferences:\")\n",
    "    print(recommended_cars)\n",
    "else:\n",
    "    print(\"No recommendations available based on the provided preferences.\")\n"
   ]
  },
  {
   "cell_type": "code",
   "execution_count": 15,
   "metadata": {},
   "outputs": [
    {
     "name": "stdout",
     "output_type": "stream",
     "text": [
      "Model exported successfully as 'car_recommendation_model.pkl'.\n"
     ]
    }
   ],
   "source": [
    "# STEP 7: Exportar o Modelo como Arquivo Pickle\n",
    "\n",
    "import pickle\n",
    "\n",
    "# Treinar o modelo KNN com o conjunto de dados completo\n",
    "knn_model = NearestNeighbors(n_neighbors=5, metric='euclidean')\n",
    "knn_model.fit(X)\n",
    "\n",
    "# Dados a serem salvos\n",
    "model_data = {\n",
    "    'knn_model': knn_model,\n",
    "    'X': X,\n",
    "    'data_model': data_model,\n",
    "    'data_original': data_original,\n",
    "    'fuel_dummies_columns': fuel_dummies_columns,\n",
    "    'transmission_dummies_columns': transmission_dummies_columns,\n",
    "    'min_price': min_price,\n",
    "    'max_price': max_price,\n",
    "    'unique_fuels': unique_fuels,\n",
    "    'unique_transmissions': unique_transmissions,\n",
    "}\n",
    "\n",
    "# Salvar em um arquivo pickle\n",
    "with open('car_recommendation_model.pkl', 'wb') as file:\n",
    "    pickle.dump(model_data, file)\n",
    "\n",
    "print(\"Model exported successfully as 'car_recommendation_model.pkl'.\")\n"
   ]
  },
  {
   "cell_type": "code",
   "execution_count": null,
   "metadata": {},
   "outputs": [],
   "source": []
  }
 ],
 "metadata": {
  "kernelspec": {
   "display_name": "Python 3",
   "language": "python",
   "name": "python3"
  },
  "language_info": {
   "codemirror_mode": {
    "name": "ipython",
    "version": 3
   },
   "file_extension": ".py",
   "mimetype": "text/x-python",
   "name": "python",
   "nbconvert_exporter": "python",
   "pygments_lexer": "ipython3",
   "version": "3.11.7"
  }
 },
 "nbformat": 4,
 "nbformat_minor": 2
}
